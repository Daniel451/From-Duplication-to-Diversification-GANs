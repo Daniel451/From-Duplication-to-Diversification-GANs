{
 "cells": [
  {
   "cell_type": "code",
   "execution_count": 1,
   "metadata": {},
   "outputs": [],
   "source": [
    "import torch\n",
    "import torch.nn as nn\n",
    "import torch.nn.functional as F\n",
    "from torchinfo import summary\n",
    "from torch.nn import TransformerEncoder, TransformerEncoderLayer\n",
    "from torch.nn import TransformerDecoder, TransformerDecoderLayer"
   ]
  },
  {
   "cell_type": "code",
   "execution_count": 2,
   "metadata": {},
   "outputs": [],
   "source": [
    "transform_enc = TransformerEncoder(\n",
    "    TransformerEncoderLayer(d_model=512, nhead=8),\n",
    "    num_layers=2,\n",
    ")\n"
   ]
  },
  {
   "cell_type": "code",
   "execution_count": 3,
   "metadata": {},
   "outputs": [
    {
     "data": {
      "text/plain": [
       "torch.Size([1, 32, 512])"
      ]
     },
     "execution_count": 3,
     "metadata": {},
     "output_type": "execute_result"
    }
   ],
   "source": [
    "transform_enc(torch.rand(1, 32, 512)).shape"
   ]
  },
  {
   "cell_type": "code",
   "execution_count": 4,
   "metadata": {},
   "outputs": [],
   "source": [
    "class ConvEncoder(nn.Module):\n",
    "    def __init__(self, embed_size, image_size=64, image_channels=3):\n",
    "        super(ConvEncoder, self).__init__()\n",
    "        self.embed_size = embed_size\n",
    "        self.conv_layers = nn.Sequential(\n",
    "            nn.Conv2d(image_channels, 64, kernel_size=4, stride=2, padding=1),  # Output: [64, 32, 32]\n",
    "            nn.ReLU(),\n",
    "            nn.Conv2d(64, 128, kernel_size=4, stride=2, padding=1),  # Output: [128, 16, 16]\n",
    "            nn.ReLU(),\n",
    "            nn.Conv2d(128, 256, kernel_size=4, stride=2, padding=1),  # Output: [256, 8, 8]\n",
    "            nn.ReLU(),\n",
    "        )\n",
    "\n",
    "        # Calculate the size of the features after convolutional layers\n",
    "        conv_output_size = 256 * (image_size // 8) * (image_size // 8)\n",
    "        self.fc = nn.Linear(conv_output_size, embed_size)\n",
    "\n",
    "        # Transformer Encoder Layer\n",
    "        encoder_layers = TransformerEncoderLayer(d_model=embed_size, nhead=8)\n",
    "        self.transformer_encoder = TransformerEncoder(encoder_layers, num_layers=1)\n",
    "\n",
    "    def forward(self, x):\n",
    "        x = self.conv_layers(x)\n",
    "        x = torch.flatten(x, start_dim=1)\n",
    "        x = self.fc(x)\n",
    "        x = x.unsqueeze(1)  # Add sequence dimension\n",
    "        x = self.transformer_encoder(x)\n",
    "        return x\n"
   ]
  },
  {
   "cell_type": "code",
   "execution_count": 5,
   "metadata": {},
   "outputs": [],
   "source": [
    "class ConvDecoder(nn.Module):\n",
    "    def __init__(self, embed_size, image_size=64, image_channels=3):\n",
    "        super(ConvDecoder, self).__init__()\n",
    "        self.embed_size = embed_size\n",
    "        self.image_size = image_size\n",
    "\n",
    "        # Transformer Decoder Layer\n",
    "        decoder_layers = TransformerDecoderLayer(d_model=embed_size, nhead=8)\n",
    "        self.transformer_decoder = TransformerDecoder(decoder_layers, num_layers=1)\n",
    "\n",
    "        self.fc = nn.Linear(embed_size, 256 * (image_size // 8) * (image_size // 8))\n",
    "\n",
    "        self.conv_layers = nn.Sequential(\n",
    "            nn.ConvTranspose2d(256, 128, kernel_size=4, stride=2, padding=1),\n",
    "            nn.ReLU(),\n",
    "            nn.ConvTranspose2d(128, 64, kernel_size=4, stride=2, padding=1),\n",
    "            nn.ReLU(),\n",
    "            nn.ConvTranspose2d(64, image_channels, kernel_size=4, stride=2, padding=1),\n",
    "            nn.Tanh(),\n",
    "        )\n",
    "\n",
    "    def forward(self, x, memory):\n",
    "        x = self.transformer_decoder(x, memory)\n",
    "        x = torch.flatten(x, start_dim=1)\n",
    "        x = self.fc(x)\n",
    "        x = x.view(-1, 256, self.image_size // 8, self.image_size // 8)  # Reshape to match the conv layers input\n",
    "        x = self.conv_layers(x)\n",
    "        return x"
   ]
  },
  {
   "cell_type": "code",
   "execution_count": 12,
   "metadata": {},
   "outputs": [],
   "source": [
    "class ConvTransformerAutoencoder(nn.Module):\n",
    "    def __init__(self, embed_size, image_size=64, image_channels=3):\n",
    "        super(ConvTransformerAutoencoder, self).__init__()\n",
    "        self.encoder = ConvEncoder(embed_size, image_size, image_channels)\n",
    "        self.decoder = ConvDecoder(embed_size, image_size, image_channels)\n",
    "\n",
    "    def forward(self, x):\n",
    "        memory = self.encoder(x)\n",
    "        print(memory.shape)\n",
    "        x = self.decoder(memory, memory)\n",
    "        return x\n"
   ]
  },
  {
   "cell_type": "code",
   "execution_count": 13,
   "metadata": {},
   "outputs": [
    {
     "name": "stdout",
     "output_type": "stream",
     "text": [
      "===============================================================================================\n",
      "Layer (type:depth-idx)                                                 Param #\n",
      "===============================================================================================\n",
      "ConvTransformerAutoencoder                                             --\n",
      "├─ConvEncoder: 1-1                                                     --\n",
      "│    └─Sequential: 2-1                                                 658,880\n",
      "│    └─Linear: 2-2                                                     4,194,560\n",
      "│    └─TransformerEncoder: 2-3                                         1,315,072\n",
      "├─ConvDecoder: 1-2                                                     --\n",
      "│    └─TransformerDecoder: 2-4                                         1,578,752\n",
      "│    └─Linear: 2-5                                                     4,210,688\n",
      "│    └─Sequential: 2-6                                                 658,627\n",
      "===============================================================================================\n",
      "Total params: 12,616,579\n",
      "Trainable params: 12,616,579\n",
      "Non-trainable params: 0\n",
      "===============================================================================================\n",
      "torch.Size([1, 1, 256])\n",
      "Output Image Shape: torch.Size([1, 3, 64, 64])\n"
     ]
    }
   ],
   "source": [
    "autoencoder = ConvTransformerAutoencoder(embed_size=256, image_size=64, image_channels=3)\n",
    "print(summary(autoencoder, depth=2))\n",
    "input_image = torch.rand(1, 3, 64, 64)  # Example input image\n",
    "output_image = autoencoder(input_image)\n",
    "print(\"Output Image Shape:\", output_image.shape)\n"
   ]
  },
  {
   "cell_type": "code",
   "execution_count": 14,
   "metadata": {},
   "outputs": [
    {
     "name": "stdout",
     "output_type": "stream",
     "text": [
      "===============================================================================================\n",
      "Layer (type:depth-idx)                                                 Param #\n",
      "===============================================================================================\n",
      "ConvTransformerAutoencoder                                             --\n",
      "├─ConvEncoder: 1-1                                                     --\n",
      "│    └─Sequential: 2-1                                                 658,880\n",
      "│    └─Linear: 2-2                                                     1,048,832\n",
      "│    └─TransformerEncoder: 2-3                                         1,315,072\n",
      "├─ConvDecoder: 1-2                                                     --\n",
      "│    └─TransformerDecoder: 2-4                                         1,578,752\n",
      "│    └─Linear: 2-5                                                     1,052,672\n",
      "│    └─Sequential: 2-6                                                 658,627\n",
      "===============================================================================================\n",
      "Total params: 6,312,835\n",
      "Trainable params: 6,312,835\n",
      "Non-trainable params: 0\n",
      "===============================================================================================\n",
      "torch.Size([1, 1, 256])\n",
      "Output Image Shape: torch.Size([1, 3, 32, 32])\n"
     ]
    }
   ],
   "source": [
    "autoencoder = ConvTransformerAutoencoder(embed_size=256, image_size=32, image_channels=3)\n",
    "print(summary(autoencoder, depth=2))\n",
    "input_image = torch.rand(1, 3, 32, 32)  # Example input image\n",
    "output_image = autoencoder(input_image)\n",
    "print(\"Output Image Shape:\", output_image.shape)"
   ]
  },
  {
   "cell_type": "code",
   "execution_count": 15,
   "metadata": {},
   "outputs": [
    {
     "name": "stdout",
     "output_type": "stream",
     "text": [
      "===============================================================================================\n",
      "Layer (type:depth-idx)                                                 Param #\n",
      "===============================================================================================\n",
      "ConvTransformerAutoencoder                                             --\n",
      "├─ConvEncoder: 1-1                                                     --\n",
      "│    └─Sequential: 2-1                                                 658,880\n",
      "│    └─Linear: 2-2                                                     2,097,664\n",
      "│    └─TransformerEncoder: 2-3                                         3,152,384\n",
      "├─ConvDecoder: 1-2                                                     --\n",
      "│    └─TransformerDecoder: 2-4                                         4,204,032\n",
      "│    └─Linear: 2-5                                                     2,101,248\n",
      "│    └─Sequential: 2-6                                                 658,627\n",
      "===============================================================================================\n",
      "Total params: 12,872,835\n",
      "Trainable params: 12,872,835\n",
      "Non-trainable params: 0\n",
      "===============================================================================================\n",
      "torch.Size([1, 1, 512])\n",
      "Output Image Shape: torch.Size([1, 3, 32, 32])\n"
     ]
    }
   ],
   "source": [
    "autoencoder = ConvTransformerAutoencoder(embed_size=512, image_size=32, image_channels=3)\n",
    "print(summary(autoencoder, depth=2))\n",
    "input_image = torch.rand(1, 3, 32, 32)  # Example input image\n",
    "output_image = autoencoder(input_image)\n",
    "print(\"Output Image Shape:\", output_image.shape)"
   ]
  },
  {
   "cell_type": "code",
   "execution_count": 16,
   "metadata": {},
   "outputs": [
    {
     "name": "stdout",
     "output_type": "stream",
     "text": [
      "===============================================================================================\n",
      "Layer (type:depth-idx)                                                 Param #\n",
      "===============================================================================================\n",
      "ConvTransformerAutoencoder                                             --\n",
      "├─ConvEncoder: 1-1                                                     --\n",
      "│    └─Sequential: 2-1                                                 661,952\n",
      "│    └─Linear: 2-2                                                     1,048,832\n",
      "│    └─TransformerEncoder: 2-3                                         1,315,072\n",
      "├─ConvDecoder: 1-2                                                     --\n",
      "│    └─TransformerDecoder: 2-4                                         1,578,752\n",
      "│    └─Linear: 2-5                                                     1,052,672\n",
      "│    └─Sequential: 2-6                                                 661,702\n",
      "===============================================================================================\n",
      "Total params: 6,318,982\n",
      "Trainable params: 6,318,982\n",
      "Non-trainable params: 0\n",
      "===============================================================================================\n",
      "torch.Size([1, 1, 256])\n",
      "Output Image Shape: torch.Size([1, 6, 32, 32])\n"
     ]
    }
   ],
   "source": [
    "autoencoder = ConvTransformerAutoencoder(embed_size=256, image_size=32, image_channels=6)\n",
    "print(summary(autoencoder, depth=2))\n",
    "input_image = torch.rand(1, 6, 32, 32)  # Example input image\n",
    "output_image = autoencoder(input_image)\n",
    "print(\"Output Image Shape:\", output_image.shape)"
   ]
  }
 ],
 "metadata": {
  "kernelspec": {
   "display_name": "daniel-thesis",
   "language": "python",
   "name": "python3"
  },
  "language_info": {
   "codemirror_mode": {
    "name": "ipython",
    "version": 3
   },
   "file_extension": ".py",
   "mimetype": "text/x-python",
   "name": "python",
   "nbconvert_exporter": "python",
   "pygments_lexer": "ipython3",
   "version": "3.10.10"
  }
 },
 "nbformat": 4,
 "nbformat_minor": 2
}
